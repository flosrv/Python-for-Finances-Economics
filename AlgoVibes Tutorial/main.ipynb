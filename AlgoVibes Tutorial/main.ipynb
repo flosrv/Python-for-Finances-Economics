{
 "cells": [
  {
   "cell_type": "code",
   "execution_count": 1,
   "id": "3e6c3f0c",
   "metadata": {},
   "outputs": [],
   "source": [
    "import yfinance as yf\n",
    "import datetime as dt\n",
    "import matplotlib.pyplot as plt\n",
    "import pandas as pd"
   ]
  },
  {
   "cell_type": "markdown",
   "id": "28e33427",
   "metadata": {},
   "source": [
    "Données à collecter"
   ]
  },
  {
   "cell_type": "code",
   "execution_count": 2,
   "id": "de8624c9",
   "metadata": {},
   "outputs": [
    {
     "data": {
      "text/plain": [
       "'\\nPrice: USD 💵 \\n(dollars par action)\\n\\nTarget Price: USD 💵 \\n(dollars par action)\\n\\nP/E: Ratio \\n(sans unité)\\n\\nForward P/E: Ratio \\n(sans unité)\\n\\nP/B: Ratio \\n(sans unité)\\n\\nROE: % \\n(rentabilité des capitaux propres)\\n\\nROA: % \\n(rentabilité des actifs)\\n\\nDebt/Equity: Ratio \\n(sans unité, >1 = très endettée)\\n\\nMargins: %\\n(marge bénéficiaire nette)\\n\\nRevenue Growth: %/an 📈 \\n(croissance du CA annuel)\\n\\nEarnings Growth: %/an 📈 \\n(croissance des bénéfices annuels)\\n\\nDividend Yield: % \\n(rendement annuel du dividende)\\n\\nFree Cash Flow: USD 💵 \\n(souvent en millions ou milliards)\\n\\nMarket Cap: USD 💵 \\n(valeur totale de l’entreprise millions/milliards)\\n\\nSector: Texte \\n(ex: Technology, Healthcare)\\n\\nIndustry Texte \\n(ex: Semiconductors, E-commerce)\\n\\n'"
      ]
     },
     "execution_count": 2,
     "metadata": {},
     "output_type": "execute_result"
    }
   ],
   "source": [
    "\"\"\"\n",
    "Price: USD 💵 \n",
    "(dollars par action)\n",
    "\n",
    "Target Price: USD 💵 \n",
    "(dollars par action)\n",
    "\n",
    "P/E: Ratio \n",
    "(sans unité)\n",
    "\n",
    "Forward P/E: Ratio \n",
    "(sans unité)\n",
    "\n",
    "P/B: Ratio \n",
    "(sans unité)\n",
    "\n",
    "ROE: % \n",
    "(rentabilité des capitaux propres)\n",
    "\n",
    "ROA: % \n",
    "(rentabilité des actifs)\n",
    "\n",
    "Debt/Equity: Ratio \n",
    "(sans unité, >1 = très endettée)\n",
    "\n",
    "Margins: %\n",
    "(marge bénéficiaire nette)\n",
    "\n",
    "Revenue Growth: %/an 📈 \n",
    "(croissance du CA annuel)\n",
    "\n",
    "Earnings Growth: %/an 📈 \n",
    "(croissance des bénéfices annuels)\n",
    "\n",
    "Dividend Yield: % \n",
    "(rendement annuel du dividende)\n",
    "\n",
    "Free Cash Flow: USD 💵 \n",
    "(souvent en millions ou milliards)\n",
    "\n",
    "Market Cap: USD 💵 \n",
    "(valeur totale de l’entreprise millions/milliards)\n",
    "\n",
    "Sector: Texte \n",
    "(ex: Technology, Healthcare)\n",
    "\n",
    "Industry Texte \n",
    "(ex: Semiconductors, E-commerce)\n",
    "\n",
    "\"\"\""
   ]
  },
  {
   "cell_type": "code",
   "execution_count": null,
   "id": "b7a66054",
   "metadata": {},
   "outputs": [],
   "source": [
    "# Paramètres de la période\n",
    "end = dt.date.today()\n",
    "\n",
    "# Collecte des informations historiques pour chaque ticker\n",
    "tickers = [\"AAPL\", \"MSFT\", \"GOOG\", \"AMZN\", \"TSLA\"]\n",
    "start = end - dt.timedelta(days=365*5)"
   ]
  },
  {
   "cell_type": "markdown",
   "id": "609fa296",
   "metadata": {},
   "source": [
    "Get 5 last years of data"
   ]
  },
  {
   "cell_type": "code",
   "execution_count": 11,
   "id": "792a4d94",
   "metadata": {},
   "outputs": [],
   "source": [
    "start = end - dt.timedelta(days=365*5)"
   ]
  },
  {
   "cell_type": "code",
   "execution_count": null,
   "id": "0b22a732",
   "metadata": {},
   "outputs": [],
   "source": [
    "import yfinance as yf\n",
    "import datetime as dt\n",
    "\n",
    "# Liste de tickers à analyser\n",
    "tickers = [\"AAPL\", \"MSFT\", \"GOOGL\", \"TSLA\"]  # Par exemple\n",
    "\n",
    "# Dictionnaire de stockage\n",
    "stock_data = {}\n",
    "\n",
    "# Dates de la période\n",
    "end = dt.datetime.today()\n",
    "start = end - dt.timedelta(days=365 * 5)\n",
    "\n",
    "for symbol in tickers:\n",
    "    stock = yf.Ticker(symbol)\n",
    "    info = stock.info\n",
    "\n",
    "    # Historique sur 5 ans\n",
    "    five_last_years_data = stock.history(start=start, end=end)\n",
    "\n",
    "    # Ajout des colonnes avec les infos fondamentales\n",
    "    fundamental_data = {\n",
    "        \"Price\": info.get(\"currentPrice\"),\n",
    "        \"Target Price\": info.get(\"targetMeanPrice\"),\n",
    "        \"P/E\": info.get(\"trailingPE\"),\n",
    "        \"Forward P/E\": info.get(\"forwardPE\"),\n",
    "        \"P/B\": info.get(\"priceToBook\"),\n",
    "        \"ROE\": info.get(\"returnOnEquity\"),\n",
    "        \"ROA\": info.get(\"returnOnAssets\"),\n",
    "        \"Debt/Equity\": info.get(\"debtToEquity\"),\n",
    "        \"Margins\": info.get(\"profitMargins\"),\n",
    "        \"Revenue Growth\": info.get(\"revenueGrowth\"),\n",
    "        \"Earnings Growth\": info.get(\"earningsGrowth\"),\n",
    "        \"Dividend Yield\": info.get(\"dividendYield\"),\n",
    "        \"Free Cash Flow\": info.get(\"freeCashflow\"),\n",
    "        \"Market Cap\": info.get(\"marketCap\"),\n",
    "        \"Sector\": info.get(\"sector\"),\n",
    "        \"Industry\": info.get(\"industry\"),\n",
    "    }\n",
    "\n",
    "    # On répète les infos fondamentales sur toute la DataFrame\n",
    "    for key, value in fundamental_data.items():\n",
    "        five_last_years_data[key] = value\n",
    "\n",
    "    # Ajout au dictionnaire principal\n",
    "    stock_data[symbol] = {\n",
    "        \"5 last years\": five_last_years_data\n",
    "    }"
   ]
  },
  {
   "cell_type": "code",
   "execution_count": 27,
   "id": "6c549717",
   "metadata": {},
   "outputs": [
    {
     "data": {
      "text/plain": [
       "Timestamp('2020-04-16 00:00:00-0400', tz='America/New_York')"
      ]
     },
     "execution_count": 27,
     "metadata": {},
     "output_type": "execute_result"
    }
   ],
   "source": [
    "stock_data[\"TSLA\"][\"5 last years\"].index.min()"
   ]
  },
  {
   "cell_type": "code",
   "execution_count": null,
   "id": "5771dd6a",
   "metadata": {},
   "outputs": [],
   "source": []
  }
 ],
 "metadata": {
  "kernelspec": {
   "display_name": "env",
   "language": "python",
   "name": "python3"
  },
  "language_info": {
   "codemirror_mode": {
    "name": "ipython",
    "version": 3
   },
   "file_extension": ".py",
   "mimetype": "text/x-python",
   "name": "python",
   "nbconvert_exporter": "python",
   "pygments_lexer": "ipython3",
   "version": "3.13.2"
  }
 },
 "nbformat": 4,
 "nbformat_minor": 5
}
